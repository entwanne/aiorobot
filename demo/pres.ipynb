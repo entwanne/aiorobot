{
 "cells": [
  {
   "cell_type": "markdown",
   "metadata": {
    "scrolled": true,
    "slideshow": {
     "slide_type": "slide"
    }
   },
   "source": [
    "# Dessine-moi une tortue ✎🐢\n",
    "\n",
    "_Antoine \"entwanne\" Rozo_\n",
    "\n",
    "<center><img src=\"src/img/root_drawing.jpg\" /></center>"
   ]
  },
  {
   "cell_type": "code",
   "execution_count": 1,
   "metadata": {
    "scrolled": true,
    "slideshow": {
     "slide_type": "skip"
    }
   },
   "outputs": [],
   "source": [
    "import asyncio\n",
    "import cmath\n",
    "import itertools\n",
    "import math\n",
    "import time\n",
    "\n",
    "\n",
    "class Keyboard:\n",
    "    def __init__(self, root, update_func=None):\n",
    "        self.root = root\n",
    "        self._pressed = set()\n",
    "        self._last_pressed = {}\n",
    "        self.update_func = update_func\n",
    "\n",
    "    def __contains__(self, key):\n",
    "        return key in self._pressed\n",
    "\n",
    "    def __iter__(self):\n",
    "        return iter(self._pressed)\n",
    "\n",
    "    def key_pressed(self, key):\n",
    "        key = key.keysym\n",
    "        self._last_pressed[key] = time.time()\n",
    "        if key not in self._pressed:\n",
    "            self._pressed.add(key)\n",
    "            if self.update_func:\n",
    "                self.update_func(self)\n",
    "\n",
    "    def key_released(self, key):\n",
    "        key = key.keysym\n",
    "        self.root.after(10, self._real_key_released, key, time.time())\n",
    "\n",
    "    def _real_key_released(self, key, t):\n",
    "        if t >= self._last_pressed.get(key, 0):\n",
    "            self._pressed.discard(key)\n",
    "            if self.update_func:\n",
    "                self.update_func(self)"
   ]
  },
  {
   "cell_type": "markdown",
   "metadata": {
    "scrolled": true,
    "slideshow": {
     "slide_type": "subslide"
    }
   },
   "source": [
    "## Dessine-moi une tortue ✎🐢\n",
    "\n",
    "* Commande d'un robot sur le modèle de `turtle`\n",
    "* Apprentissage de la programmation"
   ]
  },
  {
   "cell_type": "markdown",
   "metadata": {
    "scrolled": true,
    "slideshow": {
     "slide_type": "subslide"
    }
   },
   "source": [
    "## Module `turtle`\n",
    "\n",
    "* Commander une « tortue » virtuelle pour réaliser des dessins\n",
    "* <https://docs.python.org/fr/3/library/turtle.html>"
   ]
  },
  {
   "cell_type": "code",
   "execution_count": null,
   "metadata": {
    "scrolled": true,
    "slideshow": {
     "slide_type": "-"
    }
   },
   "outputs": [],
   "source": [
    "import turtle\n",
    "\n",
    "turtle.color('blue')\n",
    "turtle.speed(1)\n",
    "\n",
    "for i in range(4):\n",
    "    turtle.forward(200)\n",
    "    turtle.right(90)\n",
    "\n",
    "turtle.done()"
   ]
  },
  {
   "cell_type": "markdown",
   "metadata": {
    "scrolled": true,
    "slideshow": {
     "slide_type": "slide"
    }
   },
   "source": [
    "# Root robot"
   ]
  },
  {
   "cell_type": "markdown",
   "metadata": {
    "scrolled": true,
    "slideshow": {
     "slide_type": "subslide"
    }
   },
   "source": [
    "## Root robot\n",
    "\n",
    "* Robot commercialisé par iRobot\n",
    "* _Coding robot for kids_\n",
    "* Programmation graphique par blocs (type Scratch)\n",
    "  ![](src/img/root_coding.png)"
   ]
  },
  {
   "cell_type": "markdown",
   "metadata": {
    "scrolled": true,
    "slideshow": {
     "slide_type": "subslide"
    }
   },
   "source": [
    "## Spécifications\n",
    "\n",
    "* Protocol _Bluetooth Low Energy_ / _GATT_\n",
    "    * <https://github.com/RootRobotics/root-robot-ble-protocol>\n",
    "* SDK disponible en Python mais un peu bugué\n",
    "* Utilisation synchrone uniquement"
   ]
  },
  {
   "cell_type": "markdown",
   "metadata": {
    "scrolled": true,
    "slideshow": {
     "slide_type": "subslide"
    }
   },
   "source": [
    "## Implémentation\n",
    "\n",
    "* Bibliothèque asynchone pour manipuler le robot\n",
    "    * <https://github.com/entwanne/aiorobot>\n",
    "* Garder une interface la plus simple possible\n",
    "* Réception et gestion des événements"
   ]
  },
  {
   "cell_type": "markdown",
   "metadata": {
    "scrolled": true,
    "slideshow": {
     "slide_type": "slide"
    }
   },
   "source": [
    "# Turtle dans la vraie vie"
   ]
  },
  {
   "cell_type": "markdown",
   "metadata": {
    "scrolled": true,
    "slideshow": {
     "slide_type": "subslide"
    }
   },
   "source": [
    "## Turtle dans la vraie vie\n",
    "\n",
    "* Diriger une tortue et dessiner\n",
    "* _Helper_ pour lancer le robot sur une coroutine"
   ]
  },
  {
   "cell_type": "code",
   "execution_count": null,
   "metadata": {
    "scrolled": true,
    "slideshow": {
     "slide_type": "-"
    }
   },
   "outputs": [],
   "source": [
    "from aiorobot import run_robot\n",
    "\n",
    "async def main(robot):\n",
    "    await robot.marker.down()\n",
    "    for i in range(4):\n",
    "        await robot.motor.drive(150)\n",
    "        await robot.motor.rotate(900)\n",
    "    await robot.marker.up()\n",
    "    await robot.disconnect()\n",
    "\n",
    "await run_robot(started=main)"
   ]
  },
  {
   "cell_type": "markdown",
   "metadata": {
    "scrolled": true,
    "slideshow": {
     "slide_type": "subslide"
    }
   },
   "source": [
    "## Utlisation manuelle\n",
    "\n",
    "* La lib permet d'utiliser le robot plus directement en instanciant l'objet"
   ]
  },
  {
   "cell_type": "code",
   "execution_count": null,
   "metadata": {
    "scrolled": true,
    "slideshow": {
     "slide_type": "-"
    }
   },
   "outputs": [],
   "source": [
    "from aiorobot import get_robot\n",
    "\n",
    "async def main():\n",
    "    async with get_robot() as robot:\n",
    "        await robot.marker.down()\n",
    "        for i in range(4):\n",
    "            await robot.motor.drive(150)\n",
    "            await robot.motor.rotate(900)\n",
    "        await robot.marker.up()\n",
    "\n",
    "await main()"
   ]
  },
  {
   "cell_type": "markdown",
   "metadata": {
    "scrolled": true,
    "slideshow": {
     "slide_type": "subslide"
    }
   },
   "source": [
    "## Contrôle d'une voiture télécommandée\n",
    "\n",
    "* Thread tkinter pour récupérer les touches du clavier"
   ]
  },
  {
   "cell_type": "code",
   "execution_count": null,
   "metadata": {
    "scrolled": true,
    "slideshow": {
     "slide_type": "-"
    }
   },
   "outputs": [],
   "source": [
    "from tkinter import Tk\n",
    "\n",
    "def handle_keys(keyboard):\n",
    "    left, right = 0, 0\n",
    "    if 'Up' in keyboard:\n",
    "        left += 100\n",
    "        right += 100\n",
    "    if 'Down' in keyboard:\n",
    "        left -= 100\n",
    "        right -= 100\n",
    "    if 'Left' in keyboard:\n",
    "        left -= 50\n",
    "        right += 50\n",
    "    if 'Right' in keyboard:\n",
    "        left += 50\n",
    "        right -= 50\n",
    "    q.put_nowait((left, right))\n",
    "\n",
    "def tk_thread():\n",
    "    root = Tk()\n",
    "    keyboard = Keyboard(root, update_func=handle_keys)\n",
    "    root.bind('<KeyPress>', keyboard.key_pressed)\n",
    "    root.bind('<KeyRelease>', keyboard.key_released)\n",
    "    try:\n",
    "        root.mainloop()\n",
    "    finally:\n",
    "        q.put_nowait(None)"
   ]
  },
  {
   "cell_type": "markdown",
   "metadata": {
    "scrolled": true,
    "slideshow": {
     "slide_type": "subslide"
    }
   },
   "source": [
    "## Contrôle d'une voiture télécommandée\n",
    "\n",
    "* Thread principal pour gérer les événements du robot\n",
    "* Utilisation d'une queue pour gérer les interactions\n",
    "* Les vitesses des moteurs des deux roues sont indépendantes"
   ]
  },
  {
   "cell_type": "code",
   "execution_count": null,
   "metadata": {
    "scrolled": true,
    "slideshow": {
     "slide_type": "-"
    }
   },
   "outputs": [],
   "source": [
    "from aiorobot import run_robot\n",
    "from aiorobot.examples.thread import queue as q\n",
    "\n",
    "async def start(robot):\n",
    "    while True:\n",
    "        event = await q.get()\n",
    "        if event is None:\n",
    "            break\n",
    "        left, right = event\n",
    "        await robot.motor.set_speed(left, right)\n",
    "    await robot.motor.set_speed(0, 0)\n",
    "    await robot.disconnect()\n",
    "\n",
    "loop = asyncio.get_running_loop()\n",
    "await asyncio.gather(\n",
    "    run_robot(started=start),\n",
    "    loop.run_in_executor(None, tk_thread),\n",
    ")"
   ]
  },
  {
   "cell_type": "markdown",
   "metadata": {
    "scrolled": true,
    "slideshow": {
     "slide_type": "subslide"
    }
   },
   "source": [
    "## Dessin d'une rosace\n",
    "\n",
    "* Tracé d'arcs de cercle\n",
    "* Soumis à quelques imprécisions parfois"
   ]
  },
  {
   "cell_type": "code",
   "execution_count": null,
   "metadata": {
    "scrolled": true,
    "slideshow": {
     "slide_type": "-"
    }
   },
   "outputs": [],
   "source": [
    "from aiorobot import run_robot\n",
    "\n",
    "async def flower(robot):\n",
    "    for _ in range(3):\n",
    "        await robot.motor.rotate(600)\n",
    "        await robot.motor.drive_arc(1200, 200)\n",
    "        await robot.motor.rotate(600)\n",
    "\n",
    "async def main(robot):\n",
    "    await robot.motor.drive(200)\n",
    "\n",
    "    await robot.marker.down()\n",
    "    await robot.motor.drive_arc(3600, 200)\n",
    "    await flower(robot)\n",
    "\n",
    "    await robot.motor.drive_arc(600, 200)\n",
    "    await flower(robot)\n",
    "\n",
    "    await robot.marker.up()\n",
    "    await robot.motor.drive(200)\n",
    "    await robot.disconnect()\n",
    "\n",
    "await run_robot(started=main)"
   ]
  },
  {
   "cell_type": "markdown",
   "metadata": {
    "scrolled": true,
    "slideshow": {
     "slide_type": "slide"
    }
   },
   "source": [
    "# Un peu plus qu'une tortue"
   ]
  },
  {
   "cell_type": "markdown",
   "metadata": {
    "scrolled": true,
    "slideshow": {
     "slide_type": "subslide"
    }
   },
   "source": [
    "## Actions simultanées\n",
    "\n",
    "* Il est possible d'exécuter d'autres commandes sur le robot pendant qu'il roule\n",
    "* Lui demander d'allumer des LED par exemple"
   ]
  },
  {
   "cell_type": "code",
   "execution_count": null,
   "metadata": {
    "scrolled": true,
    "slideshow": {
     "slide_type": "-"
    }
   },
   "outputs": [],
   "source": [
    "from aiorobot import run_robot\n",
    "\n",
    "async def drive(robot):\n",
    "    await robot.motor.drive_arc(1800, 200)\n",
    "\n",
    "async def color(robot):\n",
    "    colors = [\n",
    "        (255, 0, 0),\n",
    "        (0, 255, 0),\n",
    "        (0, 0, 255),\n",
    "    ]\n",
    "    for i in itertools.count():\n",
    "        await robot.led.on(colors[i % 3])\n",
    "        await asyncio.sleep(0.5)\n",
    "\n",
    "async def main(robot):\n",
    "    asyncio.create_task(color(robot))\n",
    "    await drive(robot)\n",
    "    await robot.disconnect()\n",
    "\n",
    "await run_robot(started=main)"
   ]
  },
  {
   "cell_type": "markdown",
   "metadata": {
    "scrolled": true,
    "slideshow": {
     "slide_type": "subslide"
    }
   },
   "source": [
    "## 1, 2, 3, 4, musique ♫\n",
    "\n",
    "* Il sait aussi jouer des notes de musique\n",
    "* On les précise à l'aide de leurs fréquences"
   ]
  },
  {
   "cell_type": "code",
   "execution_count": null,
   "metadata": {
    "scrolled": true,
    "slideshow": {
     "slide_type": "-"
    }
   },
   "outputs": [],
   "source": [
    "from aiorobot import run_robot\n",
    "\n",
    "async def start(robot):\n",
    "    notes = [131, 145, 165, 175, 196, 220, 247, 262]\n",
    "    notes = [n*2 for n in notes]\n",
    "\n",
    "    for note in itertools.cycle(notes + notes[::-1]):\n",
    "        await robot.music.play(note, 500)\n",
    "\n",
    "async def stop(robot):\n",
    "    await robot.disconnect()\n",
    "\n",
    "await run_robot(started=start, stopped=stop)"
   ]
  },
  {
   "cell_type": "markdown",
   "metadata": {
    "scrolled": true,
    "slideshow": {
     "slide_type": "subslide"
    }
   },
   "source": [
    "## Événements\n",
    "\n",
    "* Le robot interagit avec son environnement\n",
    "* Il dispose de différents capteurs qui déclenchent des événements\n",
    "    * Bumpers, réaction au toucher, luminosité, détection de couleurs, etc."
   ]
  },
  {
   "cell_type": "code",
   "execution_count": null,
   "metadata": {
    "scrolled": true,
    "slideshow": {
     "slide_type": "-"
    }
   },
   "outputs": [],
   "source": [
    "from aiorobot import run_robot\n",
    "\n",
    "async def start(robot):\n",
    "    await robot.motor.set_speed(100, 100)\n",
    "\n",
    "async def stop(robot):\n",
    "    await robot.disconnect()\n",
    "\n",
    "async def bump(robot, timestamp, bumper):\n",
    "    if bumper & bumper.LEFT:\n",
    "        await robot.motor.set_speed(50, 100)\n",
    "        await asyncio.sleep(1)\n",
    "        await robot.motor.set_speed(100, 100)\n",
    "    elif bumper & bumper.RIGHT:\n",
    "        await robot.motor.set_speed(100, 50)\n",
    "        await asyncio.sleep(1)\n",
    "        await robot.motor.set_speed(100, 100)\n",
    "\n",
    "await run_robot(started=start, stopped=stop, bumper_event=bump)"
   ]
  },
  {
   "cell_type": "markdown",
   "metadata": {
    "scrolled": true,
    "slideshow": {
     "slide_type": "slide"
    }
   },
   "source": [
    "# Simulateur"
   ]
  },
  {
   "cell_type": "markdown",
   "metadata": {
    "scrolled": true,
    "slideshow": {
     "slide_type": "subslide"
    }
   },
   "source": [
    "## Simulateur\n",
    "\n",
    "* Le robot est intrinsèquement lent\n",
    "* On ne peut exécuter qu'un programme à la fois\n",
    "* Il est difficile de l'utiliser pour débuguer un programme\n",
    "* ⇛ Écriture d'un simulateur pour simplifier le développement"
   ]
  },
  {
   "cell_type": "code",
   "execution_count": null,
   "metadata": {
    "scrolled": true,
    "slideshow": {
     "slide_type": "-"
    }
   },
   "outputs": [],
   "source": [
    "from aiorobot import run_robot\n",
    "from aiorobot.fake_driver import Client\n",
    "\n",
    "async def main(robot):\n",
    "    await robot.marker.down()\n",
    "    for i in range(4):\n",
    "        await robot.motor.drive(150)\n",
    "        await robot.motor.rotate(900)\n",
    "    await robot.marker.up()\n",
    "    await robot.disconnect()\n",
    "\n",
    "await run_robot(started=main, client_cls=Client)"
   ]
  },
  {
   "cell_type": "markdown",
   "metadata": {
    "scrolled": true,
    "slideshow": {
     "slide_type": "subslide"
    }
   },
   "source": [
    "## Simulateur\n",
    "\n",
    "* Permet d'augmenter la vitesse d'exécution du robot\n",
    "* Fonctions pour tracer les cordes entre des points répartis autour d'un cercle\n",
    "* Révéler une figure à l'aide d'une configuration précise des cordes"
   ]
  },
  {
   "cell_type": "code",
   "execution_count": null,
   "metadata": {
    "scrolled": true,
    "slideshow": {
     "slide_type": "-"
    }
   },
   "outputs": [],
   "source": [
    "from aiorobot import run_robot\n",
    "from aiorobot.fake_driver import Client, FakeRobot\n",
    "\n",
    "FakeRobot.speed = 500\n",
    "N, F = 50, 2\n",
    "\n",
    "def get_point(i):\n",
    "    angle = (i / N) * 2 * math.pi\n",
    "    x, y = 400 + 250 * math.cos(angle), 300 + 250 * math.sin(angle)\n",
    "    return x + y*1j\n",
    "\n",
    "async def goto(robot, src, dst, angle_src):\n",
    "    vec = dst - src\n",
    "    angle_dst = cmath.log(vec / abs(vec)).imag\n",
    "    await robot.motor.rotate(int(math.degrees(angle_src - angle_dst) * 10))\n",
    "    await robot.motor.drive(int(abs(vec)))\n",
    "    return dst, angle_dst\n",
    "\n",
    "points = [get_point(i) for i in range(N)]\n",
    "to_draw = set(range(N))\n",
    "segments = []"
   ]
  },
  {
   "cell_type": "markdown",
   "metadata": {
    "scrolled": true,
    "slideshow": {
     "slide_type": "subslide"
    }
   },
   "source": [
    "## Simulateur\n",
    "\n",
    "* Ce dessin aurait mis 8 minutes sur le vrai robot"
   ]
  },
  {
   "cell_type": "code",
   "execution_count": null,
   "metadata": {
    "scrolled": true,
    "slideshow": {
     "slide_type": "-"
    }
   },
   "outputs": [],
   "source": [
    "async def main(robot):\n",
    "    z = 100 + 500j\n",
    "    angle = 0\n",
    "\n",
    "    while to_draw:\n",
    "        i = min(\n",
    "            to_draw,\n",
    "            key=lambda i: abs(points[i] - z),\n",
    "        )\n",
    "        j = (i*F) % len(points)\n",
    "        to_draw.remove(i)\n",
    "\n",
    "        z1 = points[i]\n",
    "        z2 = points[j]\n",
    "\n",
    "        if z1 != z:\n",
    "            await robot.marker.up()\n",
    "            z, angle = await goto(robot, z, z1, angle)\n",
    "\n",
    "        if z2 != z:\n",
    "            await robot.marker.down()\n",
    "            z, angle = await goto(robot, z, z2, angle)\n",
    "\n",
    "    await robot.disconnect()\n",
    "\n",
    "await run_robot(started=main, client_cls=Client)"
   ]
  },
  {
   "cell_type": "markdown",
   "metadata": {
    "scrolled": true,
    "slideshow": {
     "slide_type": "slide"
    }
   },
   "source": [
    "# Et maintenant ?"
   ]
  },
  {
   "cell_type": "markdown",
   "metadata": {
    "scrolled": true,
    "slideshow": {
     "slide_type": "subslide"
    }
   },
   "source": [
    "## Et maintenant ?\n",
    "\n",
    "* Finir d'implémenter le protocole du robot\n",
    "    * Détection des couleurs notamment\n",
    "* Offrir une interface plus simple sur certaints modules\n",
    "    * Repère et coordonnées dans le plan\n",
    "    * Notes de musique\n",
    "* Continuer le simulateur\n",
    "    * Ne gère pour le moment que les déplacements et le tracé\n",
    "    * Ajouter la gestion des événements"
   ]
  },
  {
   "cell_type": "markdown",
   "metadata": {
    "scrolled": true,
    "slideshow": {
     "slide_type": "subslide"
    }
   },
   "source": [
    "## Questions ?"
   ]
  }
 ],
 "metadata": {
  "celltoolbar": "Slideshow",
  "kernelspec": {
   "display_name": "Python 3",
   "language": "python",
   "name": "python3"
  },
  "language_info": {
   "codemirror_mode": {
    "name": "ipython",
    "version": 3
   },
   "file_extension": ".py",
   "mimetype": "text/x-python",
   "name": "python",
   "nbconvert_exporter": "python",
   "pygments_lexer": "ipython3",
   "version": "3.8.6"
  },
  "livereveal": {
   "autolaunch": false
  }
 },
 "nbformat": 4,
 "nbformat_minor": 2
}
